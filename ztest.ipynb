{
 "cells": [
  {
   "attachments": {},
   "cell_type": "markdown",
   "metadata": {},
   "source": [
    "# Design attention head"
   ]
  },
  {
   "cell_type": "code",
   "execution_count": 1,
   "metadata": {},
   "outputs": [
    {
     "name": "stderr",
     "output_type": "stream",
     "text": [
      "c:\\Users\\dranh\\anaconda3\\lib\\site-packages\\mmcv\\__init__.py:20: UserWarning: On January 1, 2023, MMCV will release v2.0.0, in which it will remove components related to the training process and add a data transformation module. In addition, it will rename the package names mmcv to mmcv-lite and mmcv-full to mmcv. See https://github.com/open-mmlab/mmcv/blob/master/docs/en/compatibility.md for more details.\n",
      "  warnings.warn(\n"
     ]
    }
   ],
   "source": [
    "import torch\n",
    "from torch import nn\n",
    "from model import HRSeg, SelfAttention\n",
    "import torch.nn.functional as F\n",
    "from utils import count_parameters"
   ]
  },
  {
   "cell_type": "code",
   "execution_count": 2,
   "metadata": {},
   "outputs": [],
   "source": [
    "x1 = torch.rand(1, 64, 72, 72)\n",
    "x2 = torch.rand(1, 128, 36, 36)\n",
    "x3 = torch.rand(1, 320, 18, 18)\n",
    "x4 = torch.rand(1, 512, 9, 9)"
   ]
  },
  {
   "cell_type": "code",
   "execution_count": 10,
   "metadata": {},
   "outputs": [],
   "source": [
    "class AttentionHead(nn.Module):\n",
    "    def __init__(self) -> None:\n",
    "        super().__init__()\n",
    "\n",
    "        self.upConv4 = nn.Sequential(\n",
    "            nn.ConvTranspose2d(in_channels=512, out_channels=64, kernel_size=4, stride=4),\n",
    "            nn.ReLU(),\n",
    "            nn.ConvTranspose2d(in_channels=64, out_channels=64, kernel_size=2, stride=2),\n",
    "            nn.ReLU(),\n",
    "            SelfAttention(64)\n",
    "        ) # [1, 64, 72, 72]\n",
    "        \n",
    "        self.upConv3 = nn.Sequential(\n",
    "            nn.ConvTranspose2d(in_channels=320, out_channels=64, kernel_size=2, stride=2),\n",
    "            nn.ReLU(),\n",
    "            nn.ConvTranspose2d(in_channels=64, out_channels=64, kernel_size=2, stride=2),\n",
    "            nn.ReLU(),\n",
    "            SelfAttention(64)\n",
    "        ) # [1, 64, 72, 72]\n",
    "\n",
    "        self.upConv2 = nn.Sequential(\n",
    "            nn.ConvTranspose2d(in_channels=128, out_channels=64, kernel_size=2, stride=2),\n",
    "            nn.ReLU(),\n",
    "            SelfAttention(64)\n",
    "        ) # [1, 64, 72, 72]\n",
    "\n",
    "        self.upConv_out = nn.ConvTranspose2d(in_channels=64, out_channels=1, kernel_size=4, stride=4)\n",
    "\n",
    "    def forward(self, x1, x2, x3, x4):\n",
    "        x = self.upConv4(x4)\n",
    "        return x"
   ]
  },
  {
   "cell_type": "code",
   "execution_count": 16,
   "metadata": {},
   "outputs": [
    {
     "name": "stdout",
     "output_type": "stream",
     "text": [
      "Loaded state dict for encoder: pretrained_pth/mit_b2.pth\n"
     ]
    }
   ],
   "source": [
    "model = HRSeg()"
   ]
  },
  {
   "cell_type": "code",
   "execution_count": 23,
   "metadata": {},
   "outputs": [
    {
     "data": {
      "text/plain": [
       "torch.Size([1, 1, 288, 288])"
      ]
     },
     "execution_count": 23,
     "metadata": {},
     "output_type": "execute_result"
    }
   ],
   "source": [
    "encoded = model.encoder(torch.rand(1, 3, 288, 288))\n",
    "att_map = model.att_head(*encoded)\n",
    "att_map.shape"
   ]
  },
  {
   "attachments": {},
   "cell_type": "markdown",
   "metadata": {},
   "source": [
    "# Test DF"
   ]
  },
  {
   "cell_type": "code",
   "execution_count": 1,
   "metadata": {},
   "outputs": [
    {
     "name": "stdout",
     "output_type": "stream",
     "text": [
      "Processing  HRSeg8\n",
      "Loaded calc result of HRSeg8 from cache\n",
      "Processing  ssformer_S\n",
      "Loaded calc result of ssformer_S from cache\n"
     ]
    },
    {
     "data": {
      "text/html": [
       "<div>\n",
       "<style scoped>\n",
       "    .dataframe tbody tr th:only-of-type {\n",
       "        vertical-align: middle;\n",
       "    }\n",
       "\n",
       "    .dataframe tbody tr th {\n",
       "        vertical-align: top;\n",
       "    }\n",
       "\n",
       "    .dataframe thead th {\n",
       "        text-align: right;\n",
       "    }\n",
       "</style>\n",
       "<table border=\"1\" class=\"dataframe\">\n",
       "  <thead>\n",
       "    <tr style=\"text-align: right;\">\n",
       "      <th></th>\n",
       "      <th>name</th>\n",
       "      <th>ds_name</th>\n",
       "      <th>img_idx</th>\n",
       "      <th>dice</th>\n",
       "      <th>size</th>\n",
       "    </tr>\n",
       "  </thead>\n",
       "  <tbody>\n",
       "    <tr>\n",
       "      <th>0</th>\n",
       "      <td>HRSeg8</td>\n",
       "      <td>CVC-300</td>\n",
       "      <td>0</td>\n",
       "      <td>95.393233</td>\n",
       "      <td>9.628920</td>\n",
       "    </tr>\n",
       "    <tr>\n",
       "      <th>1</th>\n",
       "      <td>HRSeg8</td>\n",
       "      <td>CVC-300</td>\n",
       "      <td>1</td>\n",
       "      <td>92.616489</td>\n",
       "      <td>7.178049</td>\n",
       "    </tr>\n",
       "    <tr>\n",
       "      <th>2</th>\n",
       "      <td>HRSeg8</td>\n",
       "      <td>CVC-300</td>\n",
       "      <td>2</td>\n",
       "      <td>91.567193</td>\n",
       "      <td>5.087805</td>\n",
       "    </tr>\n",
       "    <tr>\n",
       "      <th>3</th>\n",
       "      <td>HRSeg8</td>\n",
       "      <td>CVC-300</td>\n",
       "      <td>3</td>\n",
       "      <td>90.247782</td>\n",
       "      <td>4.234843</td>\n",
       "    </tr>\n",
       "    <tr>\n",
       "      <th>4</th>\n",
       "      <td>HRSeg8</td>\n",
       "      <td>CVC-300</td>\n",
       "      <td>4</td>\n",
       "      <td>66.564152</td>\n",
       "      <td>4.618467</td>\n",
       "    </tr>\n",
       "    <tr>\n",
       "      <th>...</th>\n",
       "      <td>...</td>\n",
       "      <td>...</td>\n",
       "      <td>...</td>\n",
       "      <td>...</td>\n",
       "      <td>...</td>\n",
       "    </tr>\n",
       "    <tr>\n",
       "      <th>793</th>\n",
       "      <td>ssformer_s</td>\n",
       "      <td>ETIS-LaribPolypDB</td>\n",
       "      <td>191</td>\n",
       "      <td>0.063091</td>\n",
       "      <td>0.133857</td>\n",
       "    </tr>\n",
       "    <tr>\n",
       "      <th>794</th>\n",
       "      <td>ssformer_s</td>\n",
       "      <td>ETIS-LaribPolypDB</td>\n",
       "      <td>192</td>\n",
       "      <td>0.043346</td>\n",
       "      <td>0.112139</td>\n",
       "    </tr>\n",
       "    <tr>\n",
       "      <th>795</th>\n",
       "      <td>ssformer_s</td>\n",
       "      <td>ETIS-LaribPolypDB</td>\n",
       "      <td>193</td>\n",
       "      <td>0.002775</td>\n",
       "      <td>0.196561</td>\n",
       "    </tr>\n",
       "    <tr>\n",
       "      <th>796</th>\n",
       "      <td>ssformer_s</td>\n",
       "      <td>ETIS-LaribPolypDB</td>\n",
       "      <td>194</td>\n",
       "      <td>0.040048</td>\n",
       "      <td>0.113153</td>\n",
       "    </tr>\n",
       "    <tr>\n",
       "      <th>797</th>\n",
       "      <td>ssformer_s</td>\n",
       "      <td>ETIS-LaribPolypDB</td>\n",
       "      <td>195</td>\n",
       "      <td>0.062696</td>\n",
       "      <td>0.134195</td>\n",
       "    </tr>\n",
       "  </tbody>\n",
       "</table>\n",
       "<p>1596 rows × 5 columns</p>\n",
       "</div>"
      ],
      "text/plain": [
       "           name            ds_name  img_idx       dice      size\n",
       "0        HRSeg8            CVC-300        0  95.393233  9.628920\n",
       "1        HRSeg8            CVC-300        1  92.616489  7.178049\n",
       "2        HRSeg8            CVC-300        2  91.567193  5.087805\n",
       "3        HRSeg8            CVC-300        3  90.247782  4.234843\n",
       "4        HRSeg8            CVC-300        4  66.564152  4.618467\n",
       "..          ...                ...      ...        ...       ...\n",
       "793  ssformer_s  ETIS-LaribPolypDB      191   0.063091  0.133857\n",
       "794  ssformer_s  ETIS-LaribPolypDB      192   0.043346  0.112139\n",
       "795  ssformer_s  ETIS-LaribPolypDB      193   0.002775  0.196561\n",
       "796  ssformer_s  ETIS-LaribPolypDB      194   0.040048  0.113153\n",
       "797  ssformer_s  ETIS-LaribPolypDB      195   0.062696  0.134195\n",
       "\n",
       "[1596 rows x 5 columns]"
      ]
     },
     "execution_count": 1,
     "metadata": {},
     "output_type": "execute_result"
    }
   ],
   "source": [
    "import pandas as pd\n",
    "from statistic import Comparator\n",
    "\n",
    "comparator = Comparator(\"HRSeg8\", \"ssformer_S\")\n",
    "\n",
    "comparator.df"
   ]
  },
  {
   "cell_type": "code",
   "execution_count": 49,
   "metadata": {},
   "outputs": [],
   "source": [
    "df = comparator.df"
   ]
  },
  {
   "cell_type": "code",
   "execution_count": 51,
   "metadata": {},
   "outputs": [
    {
     "data": {
      "text/html": [
       "<div>\n",
       "<style scoped>\n",
       "    .dataframe tbody tr th:only-of-type {\n",
       "        vertical-align: middle;\n",
       "    }\n",
       "\n",
       "    .dataframe tbody tr th {\n",
       "        vertical-align: top;\n",
       "    }\n",
       "\n",
       "    .dataframe thead th {\n",
       "        text-align: right;\n",
       "    }\n",
       "</style>\n",
       "<table border=\"1\" class=\"dataframe\">\n",
       "  <thead>\n",
       "    <tr style=\"text-align: right;\">\n",
       "      <th></th>\n",
       "      <th>name</th>\n",
       "      <th>ds_name</th>\n",
       "      <th>img_idx</th>\n",
       "      <th>dice</th>\n",
       "      <th>size</th>\n",
       "    </tr>\n",
       "  </thead>\n",
       "  <tbody>\n",
       "    <tr>\n",
       "      <th>0</th>\n",
       "      <td>HRSeg8</td>\n",
       "      <td>CVC-300</td>\n",
       "      <td>0</td>\n",
       "      <td>95.393233</td>\n",
       "      <td>9.628920</td>\n",
       "    </tr>\n",
       "    <tr>\n",
       "      <th>1</th>\n",
       "      <td>HRSeg8</td>\n",
       "      <td>CVC-300</td>\n",
       "      <td>1</td>\n",
       "      <td>92.616489</td>\n",
       "      <td>7.178049</td>\n",
       "    </tr>\n",
       "    <tr>\n",
       "      <th>2</th>\n",
       "      <td>HRSeg8</td>\n",
       "      <td>CVC-300</td>\n",
       "      <td>2</td>\n",
       "      <td>91.567193</td>\n",
       "      <td>5.087805</td>\n",
       "    </tr>\n",
       "    <tr>\n",
       "      <th>3</th>\n",
       "      <td>HRSeg8</td>\n",
       "      <td>CVC-300</td>\n",
       "      <td>3</td>\n",
       "      <td>90.247782</td>\n",
       "      <td>4.234843</td>\n",
       "    </tr>\n",
       "    <tr>\n",
       "      <th>4</th>\n",
       "      <td>HRSeg8</td>\n",
       "      <td>CVC-300</td>\n",
       "      <td>4</td>\n",
       "      <td>66.564152</td>\n",
       "      <td>4.618467</td>\n",
       "    </tr>\n",
       "    <tr>\n",
       "      <th>...</th>\n",
       "      <td>...</td>\n",
       "      <td>...</td>\n",
       "      <td>...</td>\n",
       "      <td>...</td>\n",
       "      <td>...</td>\n",
       "    </tr>\n",
       "    <tr>\n",
       "      <th>793</th>\n",
       "      <td>HRSeg8</td>\n",
       "      <td>ETIS-LaribPolypDB</td>\n",
       "      <td>191</td>\n",
       "      <td>0.134235</td>\n",
       "      <td>0.133857</td>\n",
       "    </tr>\n",
       "    <tr>\n",
       "      <th>794</th>\n",
       "      <td>HRSeg8</td>\n",
       "      <td>ETIS-LaribPolypDB</td>\n",
       "      <td>192</td>\n",
       "      <td>6.310312</td>\n",
       "      <td>0.112139</td>\n",
       "    </tr>\n",
       "    <tr>\n",
       "      <th>795</th>\n",
       "      <td>HRSeg8</td>\n",
       "      <td>ETIS-LaribPolypDB</td>\n",
       "      <td>193</td>\n",
       "      <td>0.366378</td>\n",
       "      <td>0.196561</td>\n",
       "    </tr>\n",
       "    <tr>\n",
       "      <th>796</th>\n",
       "      <td>HRSeg8</td>\n",
       "      <td>ETIS-LaribPolypDB</td>\n",
       "      <td>194</td>\n",
       "      <td>2.720565</td>\n",
       "      <td>0.113153</td>\n",
       "    </tr>\n",
       "    <tr>\n",
       "      <th>797</th>\n",
       "      <td>HRSeg8</td>\n",
       "      <td>ETIS-LaribPolypDB</td>\n",
       "      <td>195</td>\n",
       "      <td>72.573642</td>\n",
       "      <td>0.134195</td>\n",
       "    </tr>\n",
       "  </tbody>\n",
       "</table>\n",
       "<p>798 rows × 5 columns</p>\n",
       "</div>"
      ],
      "text/plain": [
       "       name            ds_name  img_idx       dice      size\n",
       "0    HRSeg8            CVC-300        0  95.393233  9.628920\n",
       "1    HRSeg8            CVC-300        1  92.616489  7.178049\n",
       "2    HRSeg8            CVC-300        2  91.567193  5.087805\n",
       "3    HRSeg8            CVC-300        3  90.247782  4.234843\n",
       "4    HRSeg8            CVC-300        4  66.564152  4.618467\n",
       "..      ...                ...      ...        ...       ...\n",
       "793  HRSeg8  ETIS-LaribPolypDB      191   0.134235  0.133857\n",
       "794  HRSeg8  ETIS-LaribPolypDB      192   6.310312  0.112139\n",
       "795  HRSeg8  ETIS-LaribPolypDB      193   0.366378  0.196561\n",
       "796  HRSeg8  ETIS-LaribPolypDB      194   2.720565  0.113153\n",
       "797  HRSeg8  ETIS-LaribPolypDB      195  72.573642  0.134195\n",
       "\n",
       "[798 rows x 5 columns]"
      ]
     },
     "execution_count": 51,
     "metadata": {},
     "output_type": "execute_result"
    }
   ],
   "source": [
    "df[df['name'] == 'HRSeg8']"
   ]
  },
  {
   "cell_type": "code",
   "execution_count": 70,
   "metadata": {},
   "outputs": [
    {
     "data": {
      "text/plain": [
       "size\n",
       "(0, 5]      80.727775\n",
       "(5, 10]     89.261294\n",
       "(10, 15]    89.212892\n",
       "(15, 20]    89.673092\n",
       "(20, 25]    86.419237\n",
       "(25, 30]    71.753589\n",
       "(30, 35]    58.921206\n",
       "(35, 40]    64.485846\n",
       "(40, 45]    67.471639\n",
       "(45, 50]    45.809396\n",
       "(50, 55]    30.850380\n",
       "(55, 60]    92.267263\n",
       "(60, 65]    90.534504\n",
       "Name: dice, dtype: float64"
      ]
     },
     "execution_count": 70,
     "metadata": {},
     "output_type": "execute_result"
    }
   ],
   "source": [
    "import numpy as np\n",
    "mean_dice_by_interval = df.groupby(pd.cut(df['size'], np.arange(0, 100, 5))).mean().dropna()['dice']\n",
    "mean_dice_by_interval"
   ]
  },
  {
   "cell_type": "code",
   "execution_count": null,
   "metadata": {},
   "outputs": [],
   "source": [
    "df.groupby(pd.cut(df['size'], np.arange(0, 100, 5))).mean().dropna()['dice']"
   ]
  },
  {
   "cell_type": "code",
   "execution_count": 68,
   "metadata": {},
   "outputs": [
    {
     "data": {
      "text/plain": [
       "['(0, 5]',\n",
       " '(5, 10]',\n",
       " '(10, 15]',\n",
       " '(15, 20]',\n",
       " '(20, 25]',\n",
       " '(25, 30]',\n",
       " '(30, 35]',\n",
       " '(35, 40]',\n",
       " '(40, 45]',\n",
       " '(45, 50]',\n",
       " '(50, 55]',\n",
       " '(55, 60]',\n",
       " '(60, 65]']"
      ]
     },
     "execution_count": 68,
     "metadata": {},
     "output_type": "execute_result"
    }
   ],
   "source": [
    "mean_dice_by_interval.index.astype(str).to_list()"
   ]
  },
  {
   "cell_type": "code",
   "execution_count": 69,
   "metadata": {},
   "outputs": [
    {
     "data": {
      "text/plain": [
       "[80.72777532348252,\n",
       " 89.26129377944756,\n",
       " 89.21289205599506,\n",
       " 89.67309191287939,\n",
       " 86.41923739594327,\n",
       " 71.75358948641463,\n",
       " 58.92120643205692,\n",
       " 64.48584596976832,\n",
       " 67.47163940900255,\n",
       " 45.80939647865539,\n",
       " 30.850379968536807,\n",
       " 92.26726305630842,\n",
       " 90.5345042302356]"
      ]
     },
     "execution_count": 69,
     "metadata": {},
     "output_type": "execute_result"
    }
   ],
   "source": [
    "series.to_list()"
   ]
  },
  {
   "cell_type": "code",
   "execution_count": null,
   "metadata": {},
   "outputs": [],
   "source": []
  }
 ],
 "metadata": {
  "kernelspec": {
   "display_name": "base",
   "language": "python",
   "name": "python3"
  },
  "language_info": {
   "codemirror_mode": {
    "name": "ipython",
    "version": 3
   },
   "file_extension": ".py",
   "mimetype": "text/x-python",
   "name": "python",
   "nbconvert_exporter": "python",
   "pygments_lexer": "ipython3",
   "version": "3.9.7"
  },
  "orig_nbformat": 4,
  "vscode": {
   "interpreter": {
    "hash": "59bc8e2c397f0f3dd4c3f46a78ceb843605bec637a61d7dfe6aa303fd84548fe"
   }
  }
 },
 "nbformat": 4,
 "nbformat_minor": 2
}
