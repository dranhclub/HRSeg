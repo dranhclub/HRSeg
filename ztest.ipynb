{
 "cells": [
  {
   "attachments": {},
   "cell_type": "markdown",
   "metadata": {},
   "source": [
    "# Design attention head"
   ]
  },
  {
   "cell_type": "code",
   "execution_count": 1,
   "metadata": {},
   "outputs": [
    {
     "name": "stderr",
     "output_type": "stream",
     "text": [
      "c:\\Users\\dranh\\anaconda3\\lib\\site-packages\\mmcv\\__init__.py:20: UserWarning: On January 1, 2023, MMCV will release v2.0.0, in which it will remove components related to the training process and add a data transformation module. In addition, it will rename the package names mmcv to mmcv-lite and mmcv-full to mmcv. See https://github.com/open-mmlab/mmcv/blob/master/docs/en/compatibility.md for more details.\n",
      "  warnings.warn(\n"
     ]
    }
   ],
   "source": [
    "import torch\n",
    "from torch import nn\n",
    "from model import HRSeg, SelfAttention\n",
    "import torch.nn.functional as F\n",
    "from utils import count_parameters"
   ]
  },
  {
   "cell_type": "code",
   "execution_count": 2,
   "metadata": {},
   "outputs": [],
   "source": [
    "x1 = torch.rand(1, 64, 72, 72)\n",
    "x2 = torch.rand(1, 128, 36, 36)\n",
    "x3 = torch.rand(1, 320, 18, 18)\n",
    "x4 = torch.rand(1, 512, 9, 9)"
   ]
  },
  {
   "cell_type": "code",
   "execution_count": 10,
   "metadata": {},
   "outputs": [],
   "source": [
    "class AttentionHead(nn.Module):\n",
    "    def __init__(self) -> None:\n",
    "        super().__init__()\n",
    "\n",
    "        self.upConv4 = nn.Sequential(\n",
    "            nn.ConvTranspose2d(in_channels=512, out_channels=64, kernel_size=4, stride=4),\n",
    "            nn.ReLU(),\n",
    "            nn.ConvTranspose2d(in_channels=64, out_channels=64, kernel_size=2, stride=2),\n",
    "            nn.ReLU(),\n",
    "            SelfAttention(64)\n",
    "        ) # [1, 64, 72, 72]\n",
    "        \n",
    "        self.upConv3 = nn.Sequential(\n",
    "            nn.ConvTranspose2d(in_channels=320, out_channels=64, kernel_size=2, stride=2),\n",
    "            nn.ReLU(),\n",
    "            nn.ConvTranspose2d(in_channels=64, out_channels=64, kernel_size=2, stride=2),\n",
    "            nn.ReLU(),\n",
    "            SelfAttention(64)\n",
    "        ) # [1, 64, 72, 72]\n",
    "\n",
    "        self.upConv2 = nn.Sequential(\n",
    "            nn.ConvTranspose2d(in_channels=128, out_channels=64, kernel_size=2, stride=2),\n",
    "            nn.ReLU(),\n",
    "            SelfAttention(64)\n",
    "        ) # [1, 64, 72, 72]\n",
    "\n",
    "        self.upConv_out = nn.ConvTranspose2d(in_channels=64, out_channels=1, kernel_size=4, stride=4)\n",
    "\n",
    "    def forward(self, x1, x2, x3, x4):\n",
    "        x = self.upConv4(x4)\n",
    "        return x"
   ]
  },
  {
   "cell_type": "code",
   "execution_count": 16,
   "metadata": {},
   "outputs": [
    {
     "name": "stdout",
     "output_type": "stream",
     "text": [
      "Loaded state dict for encoder: pretrained_pth/mit_b2.pth\n"
     ]
    }
   ],
   "source": [
    "model = HRSeg()"
   ]
  },
  {
   "cell_type": "code",
   "execution_count": 23,
   "metadata": {},
   "outputs": [
    {
     "data": {
      "text/plain": [
       "torch.Size([1, 1, 288, 288])"
      ]
     },
     "execution_count": 23,
     "metadata": {},
     "output_type": "execute_result"
    }
   ],
   "source": [
    "encoded = model.encoder(torch.rand(1, 3, 288, 288))\n",
    "att_map = model.att_head(*encoded)\n",
    "att_map.shape"
   ]
  },
  {
   "attachments": {},
   "cell_type": "markdown",
   "metadata": {},
   "source": [
    "# Check dataloader"
   ]
  },
  {
   "cell_type": "code",
   "execution_count": 1,
   "metadata": {},
   "outputs": [],
   "source": [
    "from dataloader import get_train_loader\n",
    "trainloader = get_train_loader(train_roots=['./dataset/TrainDataset'], batchsize=1, inner_size=352, outer_size=528)"
   ]
  },
  {
   "cell_type": "code",
   "execution_count": 2,
   "metadata": {},
   "outputs": [],
   "source": [
    "res = next(iter(trainloader))"
   ]
  },
  {
   "cell_type": "code",
   "execution_count": 3,
   "metadata": {},
   "outputs": [
    {
     "data": {
      "text/plain": [
       "dict_keys(['image', 'inner_image', 'mask', 'slice'])"
      ]
     },
     "execution_count": 3,
     "metadata": {},
     "output_type": "execute_result"
    }
   ],
   "source": [
    "res.keys()"
   ]
  },
  {
   "cell_type": "code",
   "execution_count": 4,
   "metadata": {},
   "outputs": [
    {
     "data": {
      "text/plain": [
       "torch.Size([1, 3, 352, 352])"
      ]
     },
     "execution_count": 4,
     "metadata": {},
     "output_type": "execute_result"
    }
   ],
   "source": [
    "res['image'].shape"
   ]
  },
  {
   "cell_type": "code",
   "execution_count": 5,
   "metadata": {},
   "outputs": [
    {
     "data": {
      "text/plain": [
       "torch.Size([1, 3, 352, 352])"
      ]
     },
     "execution_count": 5,
     "metadata": {},
     "output_type": "execute_result"
    }
   ],
   "source": [
    "res['inner_image'].shape"
   ]
  },
  {
   "cell_type": "code",
   "execution_count": 6,
   "metadata": {},
   "outputs": [
    {
     "data": {
      "text/plain": [
       "torch.Size([1, 1, 528, 528])"
      ]
     },
     "execution_count": 6,
     "metadata": {},
     "output_type": "execute_result"
    }
   ],
   "source": [
    "res['mask'].shape"
   ]
  }
 ],
 "metadata": {
  "kernelspec": {
   "display_name": "base",
   "language": "python",
   "name": "python3"
  },
  "language_info": {
   "codemirror_mode": {
    "name": "ipython",
    "version": 3
   },
   "file_extension": ".py",
   "mimetype": "text/x-python",
   "name": "python",
   "nbconvert_exporter": "python",
   "pygments_lexer": "ipython3",
   "version": "3.9.7 (default, Sep 16 2021, 16:59:28) [MSC v.1916 64 bit (AMD64)]"
  },
  "orig_nbformat": 4,
  "vscode": {
   "interpreter": {
    "hash": "59bc8e2c397f0f3dd4c3f46a78ceb843605bec637a61d7dfe6aa303fd84548fe"
   }
  }
 },
 "nbformat": 4,
 "nbformat_minor": 2
}
